{
 "cells": [
  {
   "cell_type": "markdown",
   "id": "a246b121",
   "metadata": {},
   "source": [
    "# Thermal modelling of a three winding transformer"
   ]
  },
  {
   "cell_type": "markdown",
   "id": "8b9f64be",
   "metadata": {},
   "source": [
    "In this example the following concepts are shown:\n",
    "* Creating a ThreeWindingTransformer, and setting its parameters\n",
    "* Creating a ThreeWindingInputProfile, that holds the profiles for a three winding transformer\n",
    "* The the thermal modelling of a three winding transformer "
   ]
  },
  {
   "cell_type": "code",
   "execution_count": null,
   "id": "2251d018",
   "metadata": {},
   "outputs": [],
   "source": [
    "import matplotlib.pyplot as plt\n",
    "import numpy as np\n",
    "import pandas as pd\n",
    "\n",
    "from transformer_thermal_model.cooler import CoolerType\n",
    "from transformer_thermal_model.model import Model\n",
    "from transformer_thermal_model.schemas import (\n",
    "    ThreeWindingInputProfile,\n",
    "    UserThreeWindingTransformerSpecifications,\n",
    "    WindingSpecifications,\n",
    ")\n",
    "from transformer_thermal_model.transformer import ThreeWindingTransformer"
   ]
  },
  {
   "cell_type": "markdown",
   "id": "f3e36a34",
   "metadata": {},
   "source": [
    "The creation of a ThreeWindingInputProfile is similar to the creation of a normal InputProfile, except that the load_profile is now replaced with a seperate profile for the low, medium and high voltage side of the transformer. These profiles should all have the same length. "
   ]
  },
  {
   "cell_type": "code",
   "execution_count": null,
   "id": "57e9109d",
   "metadata": {},
   "outputs": [],
   "source": [
    "# Define the time range for your simulation\n",
    "datetime_index = [pd.to_datetime(\"2025-07-01 00:00:00\") + pd.Timedelta(minutes=15 * i) for i in np.arange(0, 288)]\n",
    "\n",
    "load_series_high = pd.Series(\n",
    "    data=np.sin(np.arange(0, 288) * 900 * 2 * np.pi * 1 / 43200) * 500 + 500, index=datetime_index\n",
    ")\n",
    "load_series_middle = pd.Series(\n",
    "    data=np.sin(np.arange(0, 288) * 900 * 2 * np.pi * 1 / 43200) * 500 + 500, index=datetime_index\n",
    ")\n",
    "load_series_low = pd.Series(\n",
    "    data=np.sin(np.arange(0, 288) * 900 * 2 * np.pi * 1 / 43200) * 500 + 500, index=datetime_index\n",
    ")\n",
    "\n",
    "ambient_series = pd.Series(data=20, index=datetime_index)\n",
    "\n",
    "# Create the input profile for the three-winding transformer\n",
    "profile_input = ThreeWindingInputProfile.create(\n",
    "    datetime_index=datetime_index,\n",
    "    ambient_temperature_profile=ambient_series,\n",
    "    load_profile_high_voltage_side=load_series_high,\n",
    "    load_profile_middle_voltage_side=load_series_middle,\n",
    "    load_profile_low_voltage_side=load_series_low,\n",
    ")"
   ]
  },
  {
   "cell_type": "markdown",
   "id": "2d48d8fd",
   "metadata": {},
   "source": [
    "Next, we create an `ThreeWindingTransformer` object, this is a Child class of the Transformer object. To create this, a user needs to pass specifications in the `UserThreeWindingTransformerSpecifications` class, in this class the following inputs are mandatory:\n",
    "* The no-load loss [W]\n",
    "* The ambient temperature surcharge [K]\n",
    "* Specifications of the low voltage winding, these are set with a `WindingSpecifications` containing:\n",
    "    * the nominal load [A]\n",
    "    * temperature difference between the average winding and average oil temperature under nominal conditions [K]\n",
    "* mv_winding (again with a `WindingSpecifications` class)\n",
    "* hv_winding (again with a `WindingSpecifications` class)\n",
    "* The load loss between high-voltage and low-voltage winding [W]\n",
    "* The load loss between high-voltage and middle-voltage winding [W]\n",
    "* The load loss between middle-voltage and low-voltage winding [W]\n",
    "\n",
    "Similar to `UserTransformerSpecifications`, you can also specify a lot off other optional parameters, if these are not set, the default values are used."
   ]
  },
  {
   "cell_type": "code",
   "execution_count": null,
   "id": "2ac284ec",
   "metadata": {},
   "outputs": [],
   "source": [
    "# Define the transformer specifications for each winding\n",
    "user_specs = UserThreeWindingTransformerSpecifications(\n",
    "    no_load_loss=20,\n",
    "    amb_temp_surcharge=10,\n",
    "    lv_winding=WindingSpecifications(nom_load=1000, winding_oil_gradient=20, hot_spot_fac=1.2, time_const_windings=1),\n",
    "    mv_winding=WindingSpecifications(nom_load=1000, winding_oil_gradient=20, hot_spot_fac=1.2, time_const_windings=1),\n",
    "    hv_winding=WindingSpecifications(nom_load=1000, winding_oil_gradient=20, hot_spot_fac=1.2, time_const_windings=1000000),\n",
    "    load_loss_hv_lv=100,\n",
    "    load_loss_hv_mv=100,\n",
    "    load_loss_mv_lv=100,\n",
    ")\n",
    "\n",
    "# Create the transformer object\n",
    "transformer = ThreeWindingTransformer(user_specs=user_specs, cooling_type=CoolerType.ONAN)"
   ]
  },
  {
   "cell_type": "markdown",
   "id": "5f5eaafa",
   "metadata": {},
   "source": [
    "The specifications that are used in the thermal model can consulted in the `specs` property."
   ]
  },
  {
   "cell_type": "code",
   "execution_count": null,
   "id": "96d6f880",
   "metadata": {},
   "outputs": [],
   "source": [
    "transformer.specs"
   ]
  },
  {
   "cell_type": "markdown",
   "id": "b9ac4b1a",
   "metadata": {},
   "source": [
    "Now we can create a model based on the transformer and the profiles and run the model to create a temperature profile of the top-oil and the hot-spot. This is exactly the same as for Power- and Distribution transformers."
   ]
  },
  {
   "cell_type": "code",
   "execution_count": null,
   "id": "57124049",
   "metadata": {},
   "outputs": [],
   "source": [
    "model = Model(temperature_profile=profile_input, transformer=transformer)\n",
    "results = model.run()\n",
    "top_oil_temp_profile = results.top_oil_temp_profile\n",
    "hot_spot_temp_profile = results.hot_spot_temp_profile"
   ]
  },
  {
   "cell_type": "markdown",
   "id": "89d6a14f",
   "metadata": {},
   "source": [
    "A three winding transformers has three hotspot temperature profiles, one for each winding. The return profile of `results.hot_spot_temp_profile` is therefor a pandas Dataframe with 3 columns:"
   ]
  },
  {
   "cell_type": "code",
   "execution_count": null,
   "id": "87a082cf",
   "metadata": {},
   "outputs": [],
   "source": [
    "hot_spot_temp_profile"
   ]
  },
  {
   "cell_type": "markdown",
   "id": "873db665",
   "metadata": {},
   "source": [
    "It only has one top oil temperature, so `results.top_oil_temp_profile` is still a pandas series"
   ]
  },
  {
   "cell_type": "code",
   "execution_count": null,
   "id": "e1b19f92",
   "metadata": {},
   "outputs": [],
   "source": [
    "top_oil_temp_profile"
   ]
  },
  {
   "cell_type": "code",
   "execution_count": null,
   "id": "0353f8af",
   "metadata": {},
   "outputs": [],
   "source": [
    "# Plot the top-oil temperature profile\n",
    "fig1, ax1 = plt.subplots()\n",
    "results.top_oil_temp_profile.plot(ax=ax1, label=\"Top-oil temperature\")\n",
    "ax1.set_title(\"Top-oil Temperature\")\n",
    "ax1.set_ylabel(\"Temperature [C]\")\n",
    "ax1.legend()\n",
    "plt.show()\n",
    "\n",
    "# Plot the hot-spot temperature profiles\n",
    "fig2, ax2 = plt.subplots()\n",
    "results.hot_spot_temp_profile.plot(ax=ax2)\n",
    "ax2.set_title(\"Hot-spot Temperatures\")\n",
    "ax2.set_ylabel(\"Temperature [C]\")\n",
    "ax2.legend()\n",
    "plt.show()"
   ]
  }
 ],
 "metadata": {
  "kernelspec": {
   "display_name": "transformer-thermal-model-XmhHfE8S-py3.12",
   "language": "python",
   "name": "python3"
  },
  "language_info": {
   "codemirror_mode": {
    "name": "ipython",
    "version": 3
   },
   "file_extension": ".py",
   "mimetype": "text/x-python",
   "name": "python",
   "nbconvert_exporter": "python",
   "pygments_lexer": "ipython3",
   "version": "3.12.9"
  }
 },
 "nbformat": 4,
 "nbformat_minor": 5
}
