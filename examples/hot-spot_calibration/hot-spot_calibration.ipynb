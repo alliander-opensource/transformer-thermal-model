{
 "cells": [
  {
   "cell_type": "markdown",
   "metadata": {},
   "source": [
    "# Hot-spot factor calibration\n",
    "\n",
    "## Introduction\n",
    "\n",
    "In some cases, when modelling a power transformer, the hot-spot factor is not known. \n",
    "Then, hot-spot factor calibration is used to determine it.\n",
    "This is done based on a continuous nominal load with a duration of one week, a specified constant ambient temperature,\n",
    "and a hot-spot temperature limit, the hot-spot factor is calibrated to get as close as\n",
    "possible to 100% nominal load while staying within the 'hot_spot_factor_min' and 'hot_spot_factor_max' bounds.\n",
    "\n",
    "This example shows how to do this for a basic Power transformer.\n",
    "\n",
    "## Setup Inputprofile and Transformer"
   ]
  },
  {
   "cell_type": "code",
   "execution_count": null,
   "metadata": {},
   "outputs": [],
   "source": [
    "import pandas as pd\n",
    "\n",
    "from transformer_thermal_model.cooler import CoolerType\n",
    "from transformer_thermal_model.model import Model\n",
    "from transformer_thermal_model.schemas import InputProfile, UserTransformerSpecifications\n",
    "from transformer_thermal_model.transformer import PowerTransformer\n",
    "\n",
    "# In this example the model is used to calculate the transformer temperature based on a load and ambient\n",
    "# profile with a period of one week. Any duration can be chosen preferably with timestamps with an interval of\n",
    "# 15 minute or lower. Larger timesteps will result in incorrect results but it *is* possible to calculate with them.\n",
    "one_week = 4 * 24 * 7\n",
    "datetime_index = pd.date_range(\"2020-01-01\", periods=one_week, freq=\"15min\")\n",
    "\n",
    "# For the load (in A) and ambient temperature (in C) arbitrary constants profiles are chosen.\n",
    "# It is also possible to use a realistic profile.\n",
    "nominal_load = 100\n",
    "load_points = pd.Series([nominal_load] * one_week, index=datetime_index)\n",
    "ambient_temp = 21\n",
    "temperature_points = pd.Series([ambient_temp] * one_week, index=datetime_index)\n",
    "\n",
    "# Create an input object with the profiles\n",
    "profile_input = InputProfile.create(\n",
    "    datetime_index=datetime_index, load_profile=load_points, ambient_temperature_profile=temperature_points\n",
    ")\n",
    "\n",
    "# Initialise a power transformer with cooling type ONAF and, besides the mandatory user specifications, default values.\n",
    "tr_specs = UserTransformerSpecifications(\n",
    "    load_loss=1000,  # Transformer load loss [W]\n",
    "    nom_load_sec_side=1500,  # Transformer nominal current secondary side [A]\n",
    "    no_load_loss=200,  # Transformer no-load loss [W]\n",
    "    amb_temp_surcharge=20,  # Ambient temperature surcharge [K]\n",
    ")\n",
    "transformer = PowerTransformer(user_specs=tr_specs, cooling_type=CoolerType.ONAF)"
   ]
  },
  {
   "cell_type": "markdown",
   "metadata": {},
   "source": [
    "## Determining the hot-spot factor\n",
    "\n",
    "The temperature in the model is modelled using the hot-spot factor (link will follow). This is a value between 1.1 and\n",
    "1.3. \n",
    "\n",
    "When unknown, we have also provided a functionality to calibrate this value **for power transformers only**. \n",
    "When you have the rest of the specifications of your transformer:"
   ]
  },
  {
   "cell_type": "code",
   "execution_count": 2,
   "metadata": {},
   "outputs": [],
   "source": [
    "from transformer_thermal_model.cooler import CoolerType\n",
    "from transformer_thermal_model.hot_spot_calibration import calibrate_hotspot_factor\n",
    "from transformer_thermal_model.schemas import UserTransformerSpecifications\n",
    "from transformer_thermal_model.transformer import PowerTransformer\n",
    "\n",
    "tr_specs = UserTransformerSpecifications(\n",
    "    load_loss=1000,  # Transformer load loss [W]\n",
    "    nom_load_sec_side=1500,  # Transformer nominal current secondary side [A]\n",
    "    no_load_loss=200,  # Transformer no-load loss [W]\n",
    "    amb_temp_surcharge=20,  # Ambient temperature surcharge [K]\n",
    ")\n",
    "uncalibrated_transformer = PowerTransformer(user_specs=tr_specs, cooling_type=CoolerType.ONAF)\n",
    "calibrated_trafo = calibrate_hotspot_factor(\n",
    "    uncalibrated_transformer=uncalibrated_transformer,\n",
    "    ambient_temp=20.0,\n",
    "    hot_spot_limit=98,  # in most cases a hot-spot temperature limit of 98 can be used\n",
    "    hot_spot_factor_min=1.1,\n",
    "    hot_spot_factor_max=1.3,\n",
    ")"
   ]
  },
  {
   "cell_type": "markdown",
   "metadata": {},
   "source": [
    "\n",
    "The new hot-spot factor is available via `calibrated_trafo.specs.hot_spot_fac`, and from now on used in the thermal model.\n",
    "\n"
   ]
  },
  {
   "cell_type": "code",
   "execution_count": 3,
   "metadata": {},
   "outputs": [
    {
     "name": "stdout",
     "output_type": "stream",
     "text": [
      "1.1\n"
     ]
    }
   ],
   "source": [
    "print(calibrated_trafo.specs.hot_spot_fac)"
   ]
  },
  {
   "cell_type": "markdown",
   "metadata": {},
   "source": [
    "The calibrated transformer is now ready to be used in the Model"
   ]
  },
  {
   "cell_type": "code",
   "execution_count": null,
   "metadata": {},
   "outputs": [],
   "source": [
    "model = Model(temperature_profile=profile_input, transformer=calibrated_trafo)\n",
    "\n",
    "results = model.run()\n",
    "\n",
    "# Get the results as pd.Series, with the same datetime_index as your input.\n",
    "top_oil_temp_profile = results.top_oil_temp_profile\n",
    "hot_spot_temp_profile = results.hot_spot_temp_profile"
   ]
  }
 ],
 "metadata": {
  "kernelspec": {
   "display_name": "transformer-thermal-model-udcZKITw-py3.12",
   "language": "python",
   "name": "python3"
  },
  "language_info": {
   "codemirror_mode": {
    "name": "ipython",
    "version": 3
   },
   "file_extension": ".py",
   "mimetype": "text/x-python",
   "name": "python",
   "nbconvert_exporter": "python",
   "pygments_lexer": "ipython3",
   "version": "3.12.8"
  }
 },
 "nbformat": 4,
 "nbformat_minor": 2
}
