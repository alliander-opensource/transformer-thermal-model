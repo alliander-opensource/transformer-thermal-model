{
 "cells": [
  {
   "cell_type": "markdown",
   "metadata": {},
   "source": [
    "# Quick start\n",
    "\n",
    "## Introduction"
   ]
  },
  {
   "cell_type": "markdown",
   "metadata": {},
   "source": [
    "In this quick start you will calculate the temperature progression of a power transformer exposed to a constant load during a summer week."
   ]
  },
  {
   "cell_type": "markdown",
   "metadata": {},
   "source": [
    "Before we start modelling the transformer, we will first import all the required functions and classes."
   ]
  },
  {
   "cell_type": "code",
   "execution_count": null,
   "metadata": {},
   "outputs": [],
   "source": [
    "import matplotlib.pyplot as plt\n",
    "import pandas as pd\n",
    "\n",
    "from transformer_thermal_model.cooler import CoolerType\n",
    "from transformer_thermal_model.model import Model\n",
    "from transformer_thermal_model.schemas import InputProfile, UserTransformerSpecifications\n",
    "from transformer_thermal_model.transformer import PowerTransformer"
   ]
  },
  {
   "cell_type": "markdown",
   "metadata": {},
   "source": [
    "## Create input data\n",
    "\n",
    "First we will create data to simulate the ambient temperature during this summer week together with a constant load.\n",
    "\n",
    "Both profiles will have a duration of a week with a sampling time of 15 minutes. \n",
    "\n",
    "_Note that other sampling times can be used, but preferably 15 minutes or lower._"
   ]
  },
  {
   "cell_type": "code",
   "execution_count": 2,
   "metadata": {},
   "outputs": [],
   "source": [
    "one_week = 4 * 24 * 7\n",
    "datetime_index = pd.date_range(\"2025-07-01\", periods=one_week, freq=\"15min\")\n",
    "\n",
    "# The ambient temperature during this week is 20 degrees celsius\n",
    "ambient_temp = 20\n",
    "ambient_series = pd.Series([ambient_temp] * one_week, index=datetime_index)\n",
    "\n",
    "# And the transformer is exposed to a nominal load of 100 Ampere:\n",
    "load = 100\n",
    "load_series = pd.Series([load] * one_week, index=datetime_index)\n",
    "\n",
    "# Create an input object with the profiles\n",
    "my_profile_input = InputProfile.create(\n",
    "    datetime_index=datetime_index, load_profile=load_series, ambient_temperature_profile=ambient_series\n",
    ")"
   ]
  },
  {
   "cell_type": "markdown",
   "metadata": {},
   "source": [
    "## A transformer object\n",
    "\n",
    "The next step is to create a power transformer object. We will use the default specifications of the power transformer. Additionally, there are five mandatory specifications to be set: \n",
    "* The nominal current at the secondary side [A]\n",
    "* The load loss [W]\n",
    "* The no-load loss [W]\n",
    "* The ambient temperature surcharge [K]\n",
    "* The cooling type (ONAN or ONAF)\n",
    "\n",
    "The first four specifications are set using the `UserTransformerSpecifications` object and the cooler type is selected using the CoolerType enumerator.\n",
    "_Note that the values are chosen randomly._"
   ]
  },
  {
   "cell_type": "code",
   "execution_count": 3,
   "metadata": {},
   "outputs": [],
   "source": [
    "my_transformer_specifications = UserTransformerSpecifications(\n",
    "    load_loss=1000,  # Transformer load loss [W]\n",
    "    nom_load_sec_side=1500,  # Transformer nominal current secondary side [A]\n",
    "    no_load_loss=200,  # Transformer no-load loss [W]\n",
    "    amb_temp_surcharge=20,  # Ambient temperature surcharge [K]\n",
    ")\n",
    "my_cooler_type = CoolerType.ONAN\n",
    "my_transformer = PowerTransformer(user_specs=my_transformer_specifications, cooling_type=my_cooler_type)"
   ]
  },
  {
   "cell_type": "markdown",
   "metadata": {},
   "source": [
    "The default specifications of a power transformer can be consulted with the `default` property:"
   ]
  },
  {
   "cell_type": "code",
   "execution_count": 4,
   "metadata": {},
   "outputs": [
    {
     "data": {
      "text/plain": [
       "DefaultTransformerSpecifications(time_const_oil=210.0, time_const_windings=10.0, top_oil_temp_rise=60.0, winding_oil_gradient=17.0, hot_spot_fac=1.3, oil_const_k11=0.5, winding_const_k21=2, winding_const_k22=2, oil_exp_x=0.8, winding_exp_y=1.3, end_temp_reduction=0.0)"
      ]
     },
     "execution_count": 4,
     "metadata": {},
     "output_type": "execute_result"
    }
   ],
   "source": [
    "my_transformer.defaults"
   ]
  },
  {
   "cell_type": "markdown",
   "metadata": {},
   "source": [
    "The specifications that are used in the thermal model can be consulted in the `specs` property.\n",
    "Note that the `defaults` and the `specs` can differ and the specification that are used in the model are `my_transformer.specs`."
   ]
  },
  {
   "cell_type": "code",
   "execution_count": 5,
   "metadata": {},
   "outputs": [
    {
     "data": {
      "text/plain": [
       "TransformerSpecifications(load_loss=1000.0, nom_load_sec_side=1500.0, no_load_loss=200.0, amb_temp_surcharge=20.0, time_const_oil=210.0, time_const_windings=10.0, top_oil_temp_rise=60.0, winding_oil_gradient=17.0, hot_spot_fac=1.3, oil_const_k11=0.5, winding_const_k21=2, winding_const_k22=2, oil_exp_x=0.8, winding_exp_y=1.3, end_temp_reduction=0.0)"
      ]
     },
     "execution_count": 5,
     "metadata": {},
     "output_type": "execute_result"
    }
   ],
   "source": [
    "my_transformer.specs"
   ]
  },
  {
   "cell_type": "markdown",
   "metadata": {},
   "source": [
    "## Running the thermal model\n",
    "\n",
    "Now it is time to create a `my_model` object from the `Model` class. This object is initiated with the my_transformer and the my_profiles object. Then we run the model to create a temperature profile of the top-oil and the hot-spot."
   ]
  },
  {
   "cell_type": "code",
   "execution_count": 6,
   "metadata": {},
   "outputs": [],
   "source": [
    "my_model = Model(temperature_profile=my_profile_input, transformer=my_transformer)\n",
    "\n",
    "results = my_model.run()"
   ]
  },
  {
   "cell_type": "markdown",
   "metadata": {},
   "source": [
    "The output, `results`, contains to output profiles: the top-oil temperature profile and the hot-spot temperature profile. \n",
    "\n",
    "\n",
    "Because we did not define an initial temperature, the model sets the initial temperature to the ambient plus the temperature surcharge. In reality, the transformer might have been warmer than ambient temperature due e.g. to previous loads. To compensate this, a warm-up period should be cut off. Typically a period of 5 times the oil time constant in minutes is used: `my_transformer.specs.time_const_oil * 5`.  In this period the transformer had enough time to warm up or cool down to match the applied load and ambient temperature\n",
    "\n"
   ]
  },
  {
   "cell_type": "code",
   "execution_count": 7,
   "metadata": {},
   "outputs": [],
   "source": [
    "start_time = datetime_index[0] + pd.Timedelta(my_transformer.specs.time_const_oil * 5, \"m\")"
   ]
  },
  {
   "cell_type": "markdown",
   "metadata": {},
   "source": [
    "Now we calculated the correct starting-time, we use this to plot the top-oil and hotspot temperature to see how warm our transformer is under this constant load."
   ]
  },
  {
   "cell_type": "code",
   "execution_count": 8,
   "metadata": {},
   "outputs": [
    {
     "data": {
      "image/png": "[encoded data removed]",
      "text/plain": [
       "<Figure size 640x480 with 1 Axes>"
      ]
     },
     "metadata": {},
     "output_type": "display_data"
    }
   ],
   "source": [
    "fig = plt.figure()\n",
    "ax = results.top_oil_temp_profile.loc[start_time::].plot(label=\"Top-oil temperature\")\n",
    "results.hot_spot_temp_profile.loc[start_time::].plot(label=\"Hot-spot temperature\")\n",
    "ambient_series.loc[start_time::].plot(label=\"Ambient temperature\")\n",
    "ax.set_ylabel(\"Temperature [C]\")\n",
    "\n",
    "ax.legend();"
   ]
  },
  {
   "cell_type": "markdown",
   "metadata": {},
   "source": [
    "## Summary\n",
    "\n",
    "In this quick start the basic principles of the Transformer Thermal Model are shown.\n",
    "You learned to model the top-oil and hot-spot temperature based on an `InputProfile` instance and a `Transformer` instance. \n",
    "\n",
    "For more detailed information and modelling with dynamic profiles you can go through the other examples."
   ]
  }
 ],
 "metadata": {
  "kernelspec": {
   "display_name": "transformer-thermal-model-udcZKITw-py3.12",
   "language": "python",
   "name": "python3"
  },
  "language_info": {
   "codemirror_mode": {
    "name": "ipython",
    "version": 3
   },
   "file_extension": ".py",
   "mimetype": "text/x-python",
   "name": "python",
   "nbconvert_exporter": "python",
   "pygments_lexer": "ipython3",
   "version": "3.12.8"
  }
 },
 "nbformat": 4,
 "nbformat_minor": 2
}
